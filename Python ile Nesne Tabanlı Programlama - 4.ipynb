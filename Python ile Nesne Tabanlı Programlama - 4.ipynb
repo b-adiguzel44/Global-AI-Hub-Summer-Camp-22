{
 "cells": [
  {
   "cell_type": "markdown",
   "id": "cebfae92",
   "metadata": {},
   "source": [
    "# Final Exercise\n",
    "\n",
    "Bir televizyonun kanalını değiştiren, sesini kısıp, yükseltebilen bir kumanda sınıfı tanımlayınız, özelliklerini test ediniz."
   ]
  },
  {
   "cell_type": "code",
   "execution_count": 27,
   "id": "12c6efc6",
   "metadata": {},
   "outputs": [],
   "source": [
    "import time"
   ]
  },
  {
   "cell_type": "code",
   "execution_count": 119,
   "id": "967cf234",
   "metadata": {},
   "outputs": [],
   "source": [
    "class Kumanda():\n",
    "    \n",
    "    def __init__(self, tv_durum = 'Kapalı', tv_ses = 5,\n",
    "                 tv_kanal = 'TRT', kanal_listesi = ['TRT']):\n",
    "        self.tv_durum = tv_durum\n",
    "        self.tv_ses = tv_ses\n",
    "        self.tv_kanal = tv_kanal\n",
    "        self.kanal_listesi = kanal_listesi\n",
    "\n",
    "    def tv_aç(self):\n",
    "        if self.tv_durum != 'Açık':\n",
    "            print('TV Açılıyor...')\n",
    "            time.sleep(2)\n",
    "            self.tv_durum = 'Açık'\n",
    "            print('TV Açıldı!')\n",
    "        else:\n",
    "            print('TV zaten açık!')\n",
    "                \n",
    "    def tv_kapat(self):\n",
    "        if self.tv_durum != 'Kapalı':\n",
    "            print('TV kapanıyor...')\n",
    "            time.sleep(2)\n",
    "            self.tv_durum = 'Kapalı'\n",
    "            print('TV kapandı!')\n",
    "        else:\n",
    "            print('TV zaten kapalı!')\n",
    "            \n",
    "    def __str__(self):\n",
    "        return f'TV Durum: {self.tv_durum} \\nSes Düzeyi: {self.tv_ses}\n",
    "        \\nMevcut Kanal: {self.tv_kanal} \\nKanal Listesi: {self.kanal_listesi}'\n",
    "        \n",
    "    def sesi_degistir(self):\n",
    "        if self.tv_durum == 'Açık':\n",
    "            while True:\n",
    "                komut = input(\"Sesi azaltmak için '<' artırmak İçin '>'\n",
    "                              işlemi sonlandırmak için 'q' ya basınız.\\n\")\n",
    "                \n",
    "                if komut == \"<\":\n",
    "                    if self.tv_ses != 0:\n",
    "                        self.tv_ses = self.tv_ses - 1\n",
    "                        print(\"Ses:\",self.tv_ses)\n",
    "                    else:\n",
    "                        print('Ses en düşük seviyede!')\n",
    "                elif komut == \">\":\n",
    "                    if self.tv_ses != 10:\n",
    "                        self.tv_ses  = self.tv_ses + 1\n",
    "                        print(\"Ses:\",self.tv_ses)\n",
    "                    else:\n",
    "                        print('Ses en yüksek seviyede!')\n",
    "                elif komut == 'q':\n",
    "                    print('Ses Güncellendi:', self.tv_ses)\n",
    "                    break\n",
    "                else:\n",
    "                    print('Geçersiz Komut!')\n",
    "                    continue\n",
    "        else:\n",
    "            print('TV Kapalı!')\n",
    "    \n",
    "    def kanal_degistir(self):\n",
    "        if self.tv_durum == 'Açık':\n",
    "            while True:\n",
    "                kanal = input(\"Açılmasını istediğiniz kanal ismini giriniz,\n",
    "                              çıkmak için 'q' ya basınız\\n\")\n",
    "                if kanal in self.kanal_listesi:\n",
    "                    print('Kanal Değiştiriliyor...')\n",
    "                    time.sleep(3)\n",
    "                    self.tv_kanal = kanal\n",
    "                    print('Kanal Değiştirildi:', self.tv_kanal)\n",
    "                elif kanal == 'q':\n",
    "                    print('Çıkılıyor...')\n",
    "                    break\n",
    "                else:\n",
    "                    print('Bu kanal yüklü değil!')\n",
    "                    continue\n",
    "        else:\n",
    "            print('TV Kapalı!')\n",
    "            \n",
    "            \n",
    "    def kanal_ekle(self):\n",
    "        if self.tv_durum == 'Açık':\n",
    "            while True:\n",
    "                yeni_kanal = input(\"Eklenmesini istediğiniz kanal ismini giriniz, çıkmak için 'q' ya basınız\\n\")\n",
    "                if yeni_kanal in self.kanal_listesi:\n",
    "                    print('Bu kanal zaten ekli!')\n",
    "                elif yeni_kanal == 'q':\n",
    "                    print('Çıkılıyor...')\n",
    "                    break\n",
    "                else:\n",
    "                    print('Kanal ekleniyor...')\n",
    "                    self.kanal_listesi.append(yeni_kanal)\n",
    "                    print('Kanal eklendi:', self.kanal_listesi)\n",
    "        else:\n",
    "            print('TV kapalı!')"
   ]
  },
  {
   "cell_type": "code",
   "execution_count": 120,
   "id": "ce68acb3",
   "metadata": {},
   "outputs": [
    {
     "name": "stdout",
     "output_type": "stream",
     "text": [
      "TV Kapalı!\n"
     ]
    }
   ],
   "source": [
    "kumanda = Kumanda()\n",
    "\n",
    "kumanda.sesi_degistir()"
   ]
  },
  {
   "cell_type": "code",
   "execution_count": 121,
   "id": "f40e3fb0",
   "metadata": {},
   "outputs": [
    {
     "name": "stdout",
     "output_type": "stream",
     "text": [
      "TV Açılıyor...\n",
      "TV Açıldı!\n"
     ]
    }
   ],
   "source": [
    "kumanda.tv_aç()"
   ]
  },
  {
   "cell_type": "code",
   "execution_count": 106,
   "id": "89ad8e35",
   "metadata": {},
   "outputs": [
    {
     "name": "stdout",
     "output_type": "stream",
     "text": [
      "TV kapanıyor...\n",
      "TV kapandı!\n"
     ]
    }
   ],
   "source": [
    "kumanda.tv_kapat()"
   ]
  },
  {
   "cell_type": "code",
   "execution_count": 107,
   "id": "d9177d17",
   "metadata": {},
   "outputs": [
    {
     "name": "stdout",
     "output_type": "stream",
     "text": [
      "TV Kapalı!\n"
     ]
    }
   ],
   "source": [
    "kumanda.sesi_degistir()"
   ]
  },
  {
   "cell_type": "code",
   "execution_count": 108,
   "id": "01b3b835",
   "metadata": {},
   "outputs": [
    {
     "name": "stdout",
     "output_type": "stream",
     "text": [
      "TV Açılıyor...\n",
      "TV Açıldı!\n"
     ]
    }
   ],
   "source": [
    "kumanda.tv_aç()"
   ]
  },
  {
   "cell_type": "code",
   "execution_count": 109,
   "id": "6a89a229",
   "metadata": {},
   "outputs": [
    {
     "name": "stdout",
     "output_type": "stream",
     "text": [
      "TV Durum: Açık \n",
      "Ses Düzeyi: 5 \n",
      "Mevcut Kanal: TRT \n",
      "Kanal Listesi: ['TRT']\n"
     ]
    }
   ],
   "source": [
    "print(kumanda)"
   ]
  },
  {
   "cell_type": "code",
   "execution_count": 110,
   "id": "bce3108d",
   "metadata": {},
   "outputs": [
    {
     "name": "stdout",
     "output_type": "stream",
     "text": [
      "Sesi azaltmak için '<' artırmak İçin '>' işlemi sonlandırmak için 'q' ya basınız.\n",
      "<\n",
      "Ses: 4\n",
      "Sesi azaltmak için '<' artırmak İçin '>' işlemi sonlandırmak için 'q' ya basınız.\n",
      ">\n",
      "Ses: 5\n",
      "Sesi azaltmak için '<' artırmak İçin '>' işlemi sonlandırmak için 'q' ya basınız.\n",
      ">\n",
      "Ses: 6\n",
      "Sesi azaltmak için '<' artırmak İçin '>' işlemi sonlandırmak için 'q' ya basınız.\n",
      ">\n",
      "Ses: 7\n",
      "Sesi azaltmak için '<' artırmak İçin '>' işlemi sonlandırmak için 'q' ya basınız.\n",
      ">\n",
      "Ses: 8\n",
      "Sesi azaltmak için '<' artırmak İçin '>' işlemi sonlandırmak için 'q' ya basınız.\n",
      ">\n",
      "Ses: 9\n",
      "Sesi azaltmak için '<' artırmak İçin '>' işlemi sonlandırmak için 'q' ya basınız.\n",
      ">\n",
      "Ses: 10\n",
      "Sesi azaltmak için '<' artırmak İçin '>' işlemi sonlandırmak için 'q' ya basınız.\n",
      ">\n",
      "Ses en yüksek seviyede!\n",
      "Sesi azaltmak için '<' artırmak İçin '>' işlemi sonlandırmak için 'q' ya basınız.\n",
      "<\n",
      "Ses: 9\n",
      "Sesi azaltmak için '<' artırmak İçin '>' işlemi sonlandırmak için 'q' ya basınız.\n",
      "<\n",
      "Ses: 8\n",
      "Sesi azaltmak için '<' artırmak İçin '>' işlemi sonlandırmak için 'q' ya basınız.\n",
      "<\n",
      "Ses: 7\n",
      "Sesi azaltmak için '<' artırmak İçin '>' işlemi sonlandırmak için 'q' ya basınız.\n",
      "<\n",
      "Ses: 6\n",
      "Sesi azaltmak için '<' artırmak İçin '>' işlemi sonlandırmak için 'q' ya basınız.\n",
      "<\n",
      "Ses: 5\n",
      "Sesi azaltmak için '<' artırmak İçin '>' işlemi sonlandırmak için 'q' ya basınız.\n",
      "<\n",
      "Ses: 4\n",
      "Sesi azaltmak için '<' artırmak İçin '>' işlemi sonlandırmak için 'q' ya basınız.\n",
      "\n",
      "Geçersiz Komut!\n",
      "Sesi azaltmak için '<' artırmak İçin '>' işlemi sonlandırmak için 'q' ya basınız.\n",
      "\n",
      "Geçersiz Komut!\n",
      "Sesi azaltmak için '<' artırmak İçin '>' işlemi sonlandırmak için 'q' ya basınız.\n",
      "<\n",
      "Ses: 3\n",
      "Sesi azaltmak için '<' artırmak İçin '>' işlemi sonlandırmak için 'q' ya basınız.\n",
      "<\n",
      "Ses: 2\n",
      "Sesi azaltmak için '<' artırmak İçin '>' işlemi sonlandırmak için 'q' ya basınız.\n",
      "\n",
      "Geçersiz Komut!\n",
      "Sesi azaltmak için '<' artırmak İçin '>' işlemi sonlandırmak için 'q' ya basınız.\n",
      "<<\n",
      "Geçersiz Komut!\n",
      "Sesi azaltmak için '<' artırmak İçin '>' işlemi sonlandırmak için 'q' ya basınız.\n",
      "<\n",
      "Ses: 1\n",
      "Sesi azaltmak için '<' artırmak İçin '>' işlemi sonlandırmak için 'q' ya basınız.\n",
      "q\n",
      "Ses Güncellendi: 1\n"
     ]
    }
   ],
   "source": [
    "kumanda.sesi_degistir()"
   ]
  },
  {
   "cell_type": "code",
   "execution_count": 102,
   "id": "397c39a9",
   "metadata": {},
   "outputs": [
    {
     "name": "stdout",
     "output_type": "stream",
     "text": [
      "TV Durum: Açık \n",
      "Ses Düzeyi: 9 \n",
      "Mevcut Kanal: TRT\n"
     ]
    }
   ],
   "source": [
    "print(kumanda)"
   ]
  },
  {
   "cell_type": "code",
   "execution_count": 122,
   "id": "cbeb6501",
   "metadata": {},
   "outputs": [
    {
     "name": "stdout",
     "output_type": "stream",
     "text": [
      "TV Durum: Açık \n",
      "Ses Düzeyi: 5 \n",
      "Mevcut Kanal: TRT \n",
      "Kanal Listesi: ['TRT']\n"
     ]
    }
   ],
   "source": [
    "print(kumanda)"
   ]
  },
  {
   "cell_type": "code",
   "execution_count": 123,
   "id": "dba5e59d",
   "metadata": {},
   "outputs": [
    {
     "name": "stdout",
     "output_type": "stream",
     "text": [
      "Eklenmesini istediğiniz kanal ismini giriniz, çıkmak için 'q' ya basınız\n",
      "Show TV\n",
      "Kanal ekleniyor...\n",
      "Kanal eklendi: ['TRT', 'Show TV']\n",
      "Eklenmesini istediğiniz kanal ismini giriniz, çıkmak için 'q' ya basınız\n",
      "TV8\n",
      "Kanal ekleniyor...\n",
      "Kanal eklendi: ['TRT', 'Show TV', 'TV8']\n",
      "Eklenmesini istediğiniz kanal ismini giriniz, çıkmak için 'q' ya basınız\n",
      "Fox TV\n",
      "Kanal ekleniyor...\n",
      "Kanal eklendi: ['TRT', 'Show TV', 'TV8', 'Fox TV']\n",
      "Eklenmesini istediğiniz kanal ismini giriniz, çıkmak için 'q' ya basınız\n",
      "ATV\n",
      "Kanal ekleniyor...\n",
      "Kanal eklendi: ['TRT', 'Show TV', 'TV8', 'Fox TV', 'ATV']\n",
      "Eklenmesini istediğiniz kanal ismini giriniz, çıkmak için 'q' ya basınız\n",
      "q\n",
      "Çıkılıyor...\n"
     ]
    }
   ],
   "source": [
    "kumanda.kanal_ekle()"
   ]
  },
  {
   "cell_type": "code",
   "execution_count": 124,
   "id": "37e10af7",
   "metadata": {},
   "outputs": [
    {
     "name": "stdout",
     "output_type": "stream",
     "text": [
      "TV Durum: Açık \n",
      "Ses Düzeyi: 5 \n",
      "Mevcut Kanal: TRT \n",
      "Kanal Listesi: ['TRT', 'Show TV', 'TV8', 'Fox TV', 'ATV']\n"
     ]
    }
   ],
   "source": [
    "print(kumanda)"
   ]
  },
  {
   "cell_type": "code",
   "execution_count": 127,
   "id": "f7bbaf3a",
   "metadata": {},
   "outputs": [
    {
     "name": "stdout",
     "output_type": "stream",
     "text": [
      "Açılmasını istediğiniz kanal ismini giriniz, çıkmak için 'q' ya basınız\n",
      "Fox TV\n",
      "Kanal Değiştiriliyor...\n",
      "Kanal Değiştirildi: Fox TV\n",
      "Açılmasını istediğiniz kanal ismini giriniz, çıkmak için 'q' ya basınız\n",
      "q\n",
      "Çıkılıyor...\n"
     ]
    }
   ],
   "source": [
    "kumanda.kanal_degistir()"
   ]
  },
  {
   "cell_type": "code",
   "execution_count": 128,
   "id": "7981c414",
   "metadata": {},
   "outputs": [
    {
     "name": "stdout",
     "output_type": "stream",
     "text": [
      "TV Durum: Açık \n",
      "Ses Düzeyi: 5 \n",
      "Mevcut Kanal: Fox TV \n",
      "Kanal Listesi: ['TRT', 'Show TV', 'TV8', 'Fox TV', 'ATV']\n"
     ]
    }
   ],
   "source": [
    "print(kumanda)"
   ]
  },
  {
   "cell_type": "code",
   "execution_count": null,
   "id": "05fc6ba0",
   "metadata": {},
   "outputs": [],
   "source": []
  }
 ],
 "metadata": {
  "kernelspec": {
   "display_name": "Python 3 (ipykernel)",
   "language": "python",
   "name": "python3"
  },
  "language_info": {
   "codemirror_mode": {
    "name": "ipython",
    "version": 3
   },
   "file_extension": ".py",
   "mimetype": "text/x-python",
   "name": "python",
   "nbconvert_exporter": "python",
   "pygments_lexer": "ipython3",
   "version": "3.9.12"
  }
 },
 "nbformat": 4,
 "nbformat_minor": 5
}
