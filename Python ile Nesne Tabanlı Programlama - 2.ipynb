{
 "cells": [
  {
   "cell_type": "markdown",
   "id": "800753da",
   "metadata": {},
   "source": [
    "# Nesne Tabanlı Programlama Özellikleri\n",
    "\n",
    "Python ile nesne tabanlı programlama teorisinde 3 temel özelliği barındırmaktadır.\n",
    "\n",
    "- **Polymorphism** (Çok Biçimlilik)\n",
    "- **Inheritance** (Kalıtım)\n",
    "- **Encapsulation** (Sarma)\n",
    "\n",
    "## 1. Polymorphism (Çok Biçimlilik)\n",
    "\n",
    "Nesne tabanlı programlamda her iki nesnede de aynı isimdeki metodu kullanıp farklı çıktılar elde etme işlemine **Polymorphism (Çok Biçimlilik)** denilmektedir.\n",
    "\n",
    "Örneğin <code>len()</code> metodu python programlama diline ait çok biçimli bir fonksiyondur."
   ]
  },
  {
   "cell_type": "code",
   "execution_count": 1,
   "id": "9ba146b7",
   "metadata": {},
   "outputs": [
    {
     "data": {
      "text/plain": [
       "6"
      ]
     },
     "execution_count": 1,
     "metadata": {},
     "output_type": "execute_result"
    }
   ],
   "source": [
    "isim = 'Sercan'\n",
    "\n",
    "len(isim)"
   ]
  },
  {
   "cell_type": "code",
   "execution_count": 2,
   "id": "15431085",
   "metadata": {},
   "outputs": [
    {
     "data": {
      "text/plain": [
       "3"
      ]
     },
     "execution_count": 2,
     "metadata": {},
     "output_type": "execute_result"
    }
   ],
   "source": [
    "liste1 = [1, 2, 3]\n",
    "\n",
    "len(liste1)"
   ]
  },
  {
   "cell_type": "code",
   "execution_count": 6,
   "id": "a9163b20",
   "metadata": {},
   "outputs": [],
   "source": [
    "class Hayvan():\n",
    "    \n",
    "    def __init__(self, sınıf, tür, evcil):\n",
    "        self.sınıf = sınıf\n",
    "        self.tür = tür\n",
    "        self.evcil = evcil\n",
    "        \n",
    "    def bilgileri_goster(self):\n",
    "        print('Sınıf:', self.sınıf)\n",
    "        print('Tür:', self.tür)\n",
    "        print('Evcil:', self.evcil)"
   ]
  },
  {
   "cell_type": "code",
   "execution_count": 10,
   "id": "cb5f9e01",
   "metadata": {},
   "outputs": [
    {
     "name": "stdout",
     "output_type": "stream",
     "text": [
      "Sınıf: Sürüngenler\n",
      "Tür: Kertenkele\n",
      "Evcil: False\n"
     ]
    }
   ],
   "source": [
    "hayvan1 = Hayvan(sınıf = 'Sürüngenler', tür = 'Kertenkele', evcil = False)\n",
    "\n",
    "hayvan2 = Hayvan(sınıf = 'Memeliler', tür = 'Köpek', evcil = True)\n",
    "\n",
    "hayvan3 = Hayvan(sınıf = 'Kuşlar', tür = 'Kartal', evcil = False)\n",
    "\n",
    "hayvan1.bilgileri_goster()"
   ]
  },
  {
   "cell_type": "code",
   "execution_count": 11,
   "id": "3bdce875",
   "metadata": {},
   "outputs": [
    {
     "name": "stdout",
     "output_type": "stream",
     "text": [
      "Sınıf: Memeliler\n",
      "Tür: Köpek\n",
      "Evcil: True\n"
     ]
    }
   ],
   "source": [
    "hayvan2.bilgileri_goster()"
   ]
  },
  {
   "cell_type": "code",
   "execution_count": 12,
   "id": "1d8cb458",
   "metadata": {},
   "outputs": [
    {
     "name": "stdout",
     "output_type": "stream",
     "text": [
      "Sınıf: Kuşlar\n",
      "Tür: Kartal\n",
      "Evcil: False\n"
     ]
    }
   ],
   "source": [
    "hayvan3.bilgileri_goster()"
   ]
  },
  {
   "cell_type": "markdown",
   "id": "0502d5eb",
   "metadata": {},
   "source": [
    "## 2. Inheritance (Kalıtım)\n",
    "\n",
    "Nesne tabanlı programlamada inheritance (kalıtım), bir sınıfın başka bir sınıftan özelliklerini (attributes) ve metotlarını (functions) **miras** almasıdır. Tıpkı bir çocuğun annesine ya da babasına ait birkaç özelliği alması gibi sınıflar da özelliklerini birbirlerinden inheritance yoluyla alabilir. Bu özelliğin bizlere ne gibi faydası olacağını daha iyi anlamak için örneğimize geçebiliriz.\n",
    "\n",
    "Örneğin bir şirketin çalışanlarını tasarlamak için sınıflar oluşturuyoruz. Bunun için yönetici, proje direktörü, işçi gibi sınıflar oluşturmamız gerekiyor."
   ]
  },
  {
   "cell_type": "code",
   "execution_count": 24,
   "id": "34058e32",
   "metadata": {},
   "outputs": [],
   "source": [
    "class Çalışan():\n",
    "    \n",
    "    def __init__(self, isim, departman, maaş, yetenekler):\n",
    "        self.isim = isim\n",
    "        self.departman = departman\n",
    "        self.maaş = maaş\n",
    "        self.yetenekler = yetenekler\n",
    "        \n",
    "    def bilgileri_göster(self):\n",
    "        print('İsmi:', self.isim)\n",
    "        print('Departmanı:', self.departman)\n",
    "        print('Maaş:', self.maaş)\n",
    "        print('Yetenekler:', self.yetenekler)\n",
    "        \n",
    "    def yetenek_ekle(self, yeni_yetenek):\n",
    "        self.yetenekler.append(yeni_yetenek)\n",
    "        \n",
    "    def zam_yap(self, zam_miktarı):\n",
    "        self.maaş = self.maaş + zam_miktarı"
   ]
  },
  {
   "cell_type": "code",
   "execution_count": 25,
   "id": "f1802821",
   "metadata": {},
   "outputs": [],
   "source": [
    "class Yönetici(Çalışan):\n",
    "    pass"
   ]
  },
  {
   "cell_type": "code",
   "execution_count": 26,
   "id": "868ed8c8",
   "metadata": {},
   "outputs": [],
   "source": [
    "yönetici1 = Yönetici('Sercan', 'Data Science', 3000, ['Python', 'SQL'])"
   ]
  },
  {
   "cell_type": "code",
   "execution_count": 27,
   "id": "65d03f05",
   "metadata": {},
   "outputs": [
    {
     "name": "stdout",
     "output_type": "stream",
     "text": [
      "İsmi: Sercan\n",
      "Departmanı: Data Science\n",
      "Maaş: 3000\n",
      "Yetenekler: ['Python', 'SQL']\n"
     ]
    }
   ],
   "source": [
    "yönetici1.bilgileri_göster()"
   ]
  },
  {
   "cell_type": "code",
   "execution_count": 32,
   "id": "a9fcaa65",
   "metadata": {},
   "outputs": [],
   "source": [
    "#Kalıtım alınan sınıfa ekstra özellik ekleme\n",
    "class Yönetici(Çalışan):\n",
    "    \n",
    "    def __init__(self, isim, departman, maaş, yetenekler, kişi_sayısı):\n",
    "        self.isim = isim\n",
    "        self.departman = departman\n",
    "        self.maaş = maaş\n",
    "        self.yetenekler = yetenekler\n",
    "        self.kişi_sayısı = kişi_sayısı\n",
    "        \n",
    "    def bilgileri_göster(self):\n",
    "        print('İsmi:', self.isim)\n",
    "        print('Departmanı:', self.departman)\n",
    "        print('Maaş:', self.maaş)\n",
    "        print('Yetenekler:', self.yetenekler)\n",
    "        print('Kişi Sayısı:', self.kişi_sayısı)"
   ]
  },
  {
   "cell_type": "code",
   "execution_count": 34,
   "id": "7e01f5ca",
   "metadata": {},
   "outputs": [],
   "source": [
    "yönetici2 = Yönetici('Sercan', 'Data Science', 3000, ['Python', 'SQL'], kişi_sayısı = 10)"
   ]
  },
  {
   "cell_type": "code",
   "execution_count": 35,
   "id": "1c61c502",
   "metadata": {},
   "outputs": [
    {
     "name": "stdout",
     "output_type": "stream",
     "text": [
      "İsmi: Sercan\n",
      "Departmanı: Data Science\n",
      "Maaş: 3000\n",
      "Yetenekler: ['Python', 'SQL']\n",
      "Kişi Sayısı: 10\n"
     ]
    }
   ],
   "source": [
    "yönetici2.bilgileri_göster()"
   ]
  },
  {
   "cell_type": "code",
   "execution_count": 36,
   "id": "925fdf01",
   "metadata": {},
   "outputs": [
    {
     "name": "stdout",
     "output_type": "stream",
     "text": [
      "İsmi: Sercan\n",
      "Departmanı: Data Science\n",
      "Maaş: 3200\n",
      "Yetenekler: ['Python', 'SQL']\n",
      "Kişi Sayısı: 10\n"
     ]
    }
   ],
   "source": [
    "yönetici2.zam_yap(zam_miktarı = 200)\n",
    "\n",
    "yönetici2.bilgileri_göster()"
   ]
  },
  {
   "cell_type": "code",
   "execution_count": 37,
   "id": "12849140",
   "metadata": {},
   "outputs": [
    {
     "name": "stdout",
     "output_type": "stream",
     "text": [
      "İsmi: Sercan\n",
      "Departmanı: Data Science\n",
      "Maaş: 3200\n",
      "Yetenekler: ['Python', 'SQL', 'SPSS']\n",
      "Kişi Sayısı: 10\n"
     ]
    }
   ],
   "source": [
    "yönetici2.yetenek_ekle('SPSS')\n",
    "\n",
    "yönetici2.bilgileri_göster()"
   ]
  },
  {
   "cell_type": "markdown",
   "id": "bc90d296",
   "metadata": {},
   "source": [
    "## 3. Encapsulation (Kapsülleme)\n",
    "\n",
    "Kapsülleme, sınıfınız içindeki özellik ve fonksiyonlara diğer sınıflar içinden yetkisiz erişimden korunması işlemidir. Bunun için erişim yetkilerini siz belirlersiniz. Bir sınıftaki özellikleri(değişkenleri) özel(private) olarak belirleyerek dış erişimden koruyabilirsiniz.\n",
    "\n",
    "Python programlama dilinde bir değişkeni özel(private) yapmak için başına **iki tane alt çizgi (double under score)** ekleriz. Bunu yaptığımızda o sınıftan oluşturulan nesne ile bu özelliğe direkt olarak erişilemez."
   ]
  },
  {
   "cell_type": "code",
   "execution_count": 40,
   "id": "2df54fd3",
   "metadata": {},
   "outputs": [
    {
     "name": "stdout",
     "output_type": "stream",
     "text": [
      "Çalışanın İsmi: Sercan\n",
      "Çalışanın Departmanı: Data Science\n"
     ]
    },
    {
     "ename": "AttributeError",
     "evalue": "'Çalışan' object has no attribute 'maaş'",
     "output_type": "error",
     "traceback": [
      "\u001b[0;31m---------------------------------------------------------------------------\u001b[0m",
      "\u001b[0;31mAttributeError\u001b[0m                            Traceback (most recent call last)",
      "Input \u001b[0;32mIn [40]\u001b[0m, in \u001b[0;36m<cell line: 14>\u001b[0;34m()\u001b[0m\n\u001b[1;32m     12\u001b[0m \u001b[38;5;28mprint\u001b[39m(\u001b[38;5;124mf\u001b[39m\u001b[38;5;124m'\u001b[39m\u001b[38;5;124mÇalışanın İsmi: \u001b[39m\u001b[38;5;132;01m{\u001b[39;00mçalışan2\u001b[38;5;241m.\u001b[39misim\u001b[38;5;132;01m}\u001b[39;00m\u001b[38;5;124m'\u001b[39m)\n\u001b[1;32m     13\u001b[0m \u001b[38;5;28mprint\u001b[39m(\u001b[38;5;124mf\u001b[39m\u001b[38;5;124m'\u001b[39m\u001b[38;5;124mÇalışanın Departmanı: \u001b[39m\u001b[38;5;132;01m{\u001b[39;00mçalışan2\u001b[38;5;241m.\u001b[39mdepartman\u001b[38;5;132;01m}\u001b[39;00m\u001b[38;5;124m'\u001b[39m)\n\u001b[0;32m---> 14\u001b[0m \u001b[38;5;28mprint\u001b[39m(\u001b[38;5;124mf\u001b[39m\u001b[38;5;124m'\u001b[39m\u001b[38;5;124mÇalışanın Maaşı: \u001b[39m\u001b[38;5;132;01m{\u001b[39;00mçalışan2\u001b[38;5;241m.\u001b[39mmaaş\u001b[38;5;132;01m}\u001b[39;00m\u001b[38;5;124m'\u001b[39m)\n\u001b[1;32m     15\u001b[0m \u001b[38;5;28mprint\u001b[39m(\u001b[38;5;124mf\u001b[39m\u001b[38;5;124m'\u001b[39m\u001b[38;5;124mÇalışanın Yetenekleri: \u001b[39m\u001b[38;5;132;01m{\u001b[39;00mçalışan2\u001b[38;5;241m.\u001b[39myetenekler\u001b[38;5;132;01m}\u001b[39;00m\u001b[38;5;124m'\u001b[39m)\n",
      "\u001b[0;31mAttributeError\u001b[0m: 'Çalışan' object has no attribute 'maaş'"
     ]
    }
   ],
   "source": [
    "class Çalışan():\n",
    "    \n",
    "    def __init__(self, isim, departman, maaş, yetenekler):\n",
    "        self.isim = isim\n",
    "        self.departman = departman\n",
    "        self.__maaş = maaş\n",
    "        self.yetenekler = yetenekler\n",
    "\n",
    "çalışan2 = Çalışan('Sercan', 'Data Science', 3000, ['Python', 'SQL'])\n",
    "\n",
    "print(f'Çalışanın İsmi: {çalışan2.isim}')\n",
    "print(f'Çalışanın Departmanı: {çalışan2.departman}')\n",
    "print(f'Çalışanın Maaşı: {çalışan2.maaş}')\n",
    "print(f'Çalışanın Yetenekleri: {çalışan2.yetenekler}')"
   ]
  },
  {
   "cell_type": "code",
   "execution_count": 41,
   "id": "8b4de348",
   "metadata": {},
   "outputs": [
    {
     "name": "stdout",
     "output_type": "stream",
     "text": [
      "Çalışanın Maaşı:  3000\n"
     ]
    }
   ],
   "source": [
    "print(\"Çalışanın Maaşı: \" , çalışan2._Çalışan__maaş)"
   ]
  }
 ],
 "metadata": {
  "kernelspec": {
   "display_name": "Python 3 (ipykernel)",
   "language": "python",
   "name": "python3"
  },
  "language_info": {
   "codemirror_mode": {
    "name": "ipython",
    "version": 3
   },
   "file_extension": ".py",
   "mimetype": "text/x-python",
   "name": "python",
   "nbconvert_exporter": "python",
   "pygments_lexer": "ipython3",
   "version": "3.9.12"
  }
 },
 "nbformat": 4,
 "nbformat_minor": 5
}
