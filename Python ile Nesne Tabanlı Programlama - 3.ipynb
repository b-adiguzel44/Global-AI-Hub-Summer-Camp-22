{
 "cells": [
  {
   "cell_type": "markdown",
   "id": "973d6234",
   "metadata": {},
   "source": [
    "# İç içe Fonksiyonlar ve Fonksiyon Parametreleri\n",
    "\n",
    "## Args & Kwargs\n",
    "\n",
    "Fonksiyonlara gönderilerilen argüman sayısını esnek kılar. <code>\\*args</code> ile istenilen miktarda değer girdi olarak verilebilir, <code>\\**kwargs</code> ile istenilen miktarda değer isim belirtilerek girilebilir."
   ]
  },
  {
   "cell_type": "code",
   "execution_count": 1,
   "id": "4535cdf7",
   "metadata": {},
   "outputs": [
    {
     "name": "stdout",
     "output_type": "stream",
     "text": [
      "1\n",
      "2\n",
      "3\n"
     ]
    }
   ],
   "source": [
    "def fonksiyon(*args):\n",
    "    \n",
    "    for value in args:\n",
    "        print(value)\n",
    "        \n",
    "fonksiyon(1, 2, 3)"
   ]
  },
  {
   "cell_type": "code",
   "execution_count": 2,
   "id": "3cbf7999",
   "metadata": {},
   "outputs": [
    {
     "name": "stdout",
     "output_type": "stream",
     "text": [
      "1\n",
      "2\n",
      "3\n",
      "8\n",
      "19\n"
     ]
    }
   ],
   "source": [
    "fonksiyon(1, 2, 3, 8, 19)"
   ]
  },
  {
   "cell_type": "code",
   "execution_count": 3,
   "id": "83a69018",
   "metadata": {},
   "outputs": [
    {
     "data": {
      "text/plain": [
       "6"
      ]
     },
     "execution_count": 3,
     "metadata": {},
     "output_type": "execute_result"
    }
   ],
   "source": [
    "def topla(*args):\n",
    "    toplam = 0\n",
    "    for value in args:\n",
    "        toplam += value\n",
    "        \n",
    "    return toplam\n",
    "\n",
    "topla(1, 2, 3)"
   ]
  },
  {
   "cell_type": "code",
   "execution_count": 4,
   "id": "41d5a475",
   "metadata": {},
   "outputs": [
    {
     "data": {
      "text/plain": [
       "59"
      ]
     },
     "execution_count": 4,
     "metadata": {},
     "output_type": "execute_result"
    }
   ],
   "source": [
    "topla(1, 2, 3, 15, 12, 26)"
   ]
  },
  {
   "cell_type": "code",
   "execution_count": 8,
   "id": "171f901e",
   "metadata": {},
   "outputs": [
    {
     "name": "stdout",
     "output_type": "stream",
     "text": [
      "İsim:  Sercan\n",
      "1\n",
      "2\n",
      "3\n",
      "4\n",
      "5\n"
     ]
    }
   ],
   "source": [
    "def fonksiyon(isim, *args):\n",
    "    \n",
    "    print('İsim: ', isim)\n",
    "    for i in args:\n",
    "        print(i)\n",
    "        \n",
    "fonksiyon('Sercan', 1, 2, 3, 4, 5)"
   ]
  },
  {
   "cell_type": "code",
   "execution_count": 12,
   "id": "92307dfc",
   "metadata": {},
   "outputs": [
    {
     "name": "stdout",
     "output_type": "stream",
     "text": [
      "{'isim': 'Sercan', 'yaş': 24, 'meslek': 'Data Scientist'}\n"
     ]
    }
   ],
   "source": [
    "def fonksiyon(**kwargs):    \n",
    "    print(kwargs)\n",
    "\n",
    "        \n",
    "fonksiyon(isim = 'Sercan', yaş = 24, meslek = 'Data Scientist')"
   ]
  },
  {
   "cell_type": "code",
   "execution_count": 25,
   "id": "1ba2e7bf",
   "metadata": {},
   "outputs": [
    {
     "name": "stdout",
     "output_type": "stream",
     "text": [
      "Argüman İsmi: isim --- Argüman Değeri: Sercan\n",
      "Argüman İsmi: yaş --- Argüman Değeri: 24\n",
      "Argüman İsmi: meslek --- Argüman Değeri: Data Scientist\n"
     ]
    }
   ],
   "source": [
    "def fonksiyon(**kwargs):        \n",
    "    for i,j in kwargs.items():\n",
    "        print('Argüman İsmi:', i, '--- Argüman Değeri:', j)\n",
    "        \n",
    "fonksiyon(isim = 'Sercan', yaş = 24, meslek = 'Data Scientist')"
   ]
  },
  {
   "cell_type": "code",
   "execution_count": 26,
   "id": "2da12992",
   "metadata": {},
   "outputs": [
    {
     "name": "stdout",
     "output_type": "stream",
     "text": [
      "1\n",
      "2\n",
      "3\n",
      "4\n",
      "isim Sercan\n",
      "yaş 24\n"
     ]
    }
   ],
   "source": [
    "#args kwargs birlikte kullanımı\n",
    "\n",
    "def fonksiyon(*args, **kwargs):\n",
    "    \n",
    "    for i in args:\n",
    "        print(i)\n",
    "    \n",
    "    for i,j in kwargs.items():\n",
    "        print(i, j)\n",
    "        \n",
    "fonksiyon(1, 2, 3, 4, isim = 'Sercan', yaş = 24)"
   ]
  },
  {
   "cell_type": "markdown",
   "id": "9b0e5c21",
   "metadata": {},
   "source": [
    "## Decoratorler\n",
    "\n",
    "Decorator fonksiyonlar ile fonksiyonlara dinamik olarak ekstra özellikler eklenebilir, kullanımı kod tekrarının önüne geçer. Python programlama dilinde decorator fonksiyonlar **Flask** gibi arayüzlerde sıklıkla kullanılmaktadır."
   ]
  },
  {
   "cell_type": "code",
   "execution_count": 28,
   "id": "42635a3a",
   "metadata": {},
   "outputs": [],
   "source": [
    "import time"
   ]
  },
  {
   "cell_type": "code",
   "execution_count": 34,
   "id": "bec6d7b4",
   "metadata": {},
   "outputs": [
    {
     "name": "stdout",
     "output_type": "stream",
     "text": [
      "Kareleri hesaplaması 0.0482640266418457 saniye sürdü\n"
     ]
    }
   ],
   "source": [
    "def kareleri_hesapla(sayılar):\n",
    "    sonuç = []\n",
    "    baslama = time.time()\n",
    "    \n",
    "    for sayı in sayılar:\n",
    "        sonuç.append(sayı**2)\n",
    "    print(f'Kareleri hesaplaması {time.time() - baslama} saniye sürdü')\n",
    "    #return sonuç\n",
    "\n",
    "def küpleri_hesapla(sayılar):\n",
    "    sonuç = []\n",
    "    baslama = time.time()\n",
    "    \n",
    "    for sayı in sayılar:\n",
    "        sonuç.append(sayı**3)\n",
    "    print(f'Küpleri hesaplaması {time.time() - baslama} saniye sürdü')\n",
    "    #return sonuç\n",
    "    \n",
    "kareleri_hesapla(list(range(100000)))"
   ]
  },
  {
   "cell_type": "code",
   "execution_count": 35,
   "id": "533fa0cb",
   "metadata": {},
   "outputs": [
    {
     "name": "stdout",
     "output_type": "stream",
     "text": [
      "Küpleri hesaplaması 0.0576777458190918 saniye sürdü\n"
     ]
    }
   ],
   "source": [
    "küpleri_hesapla(list(range(100000)))"
   ]
  },
  {
   "cell_type": "code",
   "execution_count": 37,
   "id": "8c10ca49",
   "metadata": {},
   "outputs": [],
   "source": [
    "def zaman_hesapla(func):\n",
    "    def wrapper(sayılar):\n",
    "        baslama = time.time()\n",
    "        \n",
    "        sonuç = func(sayılar)\n",
    "        \n",
    "        bitis = time.time()\n",
    "        print(f'{func.__name__} {bitis - baslama} saniye sürdü')\n",
    "        \n",
    "        return sonuç\n",
    "    return wrapper\n",
    "\n",
    "@zaman_hesapla\n",
    "def kareleri_hesapla(sayılar):\n",
    "    sonuç = []\n",
    "    \n",
    "    for sayı in sayılar:\n",
    "        sonuç.append(sayı**2)\n",
    "    #return sonuç\n",
    "\n",
    "@zaman_hesapla\n",
    "def küpleri_hesapla(sayılar):\n",
    "    sonuç = []\n",
    "    \n",
    "    for sayı in sayılar:\n",
    "        sonuç.append(sayı**3)\n",
    "    #return sonuç"
   ]
  },
  {
   "cell_type": "code",
   "execution_count": 39,
   "id": "99f64d56",
   "metadata": {},
   "outputs": [
    {
     "name": "stdout",
     "output_type": "stream",
     "text": [
      "kareleri_hesapla 0.05299782752990723 saniye sürdü\n"
     ]
    }
   ],
   "source": [
    "kareleri_hesapla(list(range(100000)))"
   ]
  },
  {
   "cell_type": "code",
   "execution_count": 40,
   "id": "a150cf7e",
   "metadata": {},
   "outputs": [
    {
     "name": "stdout",
     "output_type": "stream",
     "text": [
      "küpleri_hesapla 0.058537960052490234 saniye sürdü\n"
     ]
    }
   ],
   "source": [
    "küpleri_hesapla(list(range(100000)))"
   ]
  }
 ],
 "metadata": {
  "kernelspec": {
   "display_name": "Python 3 (ipykernel)",
   "language": "python",
   "name": "python3"
  },
  "language_info": {
   "codemirror_mode": {
    "name": "ipython",
    "version": 3
   },
   "file_extension": ".py",
   "mimetype": "text/x-python",
   "name": "python",
   "nbconvert_exporter": "python",
   "pygments_lexer": "ipython3",
   "version": "3.9.12"
  }
 },
 "nbformat": 4,
 "nbformat_minor": 5
}
