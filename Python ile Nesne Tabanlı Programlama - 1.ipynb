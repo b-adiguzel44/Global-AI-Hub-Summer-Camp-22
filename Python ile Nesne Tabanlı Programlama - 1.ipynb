{
 "cells": [
  {
   "cell_type": "markdown",
   "id": "ea7e9042",
   "metadata": {},
   "source": [
    "# Python ile Nesne Tabanlı Programlama\n",
    "\n",
    "## Nesne Tabanlı Programlama Nedir?\n",
    "\n",
    "Nesne tabanlı programlama **nesnelere** ve **nesneler üzerinde işlemlere** odaklanan programlama dili modelidir, günümüzde yazılım geliştirme teknolojileri içerisinde büyük bir önem taşımaktadır.\n",
    "\n",
    "## Temel Yapılar\n",
    "\n",
    "- Objects (Nesneler)\n",
    "- Attributes (Özellikler)\n",
    "- Functions (Metodlar)\n",
    "- Class (Sınıf)\n",
    "\n",
    "## 1. Object (Nesne) Nedir ?\n",
    "\n",
    "Cansız varlıklar **nesne** olarak isimlendirilmektedir. Nesnelerin ne ifade ettiğini, ne olduklarını özelliklerinden anlayabiliriz. Araba, genel tanımıyla 4 tekerleği, motoru, markası ve modeli olan bir nesnedir. Araba dediğimiz zaman aklımıza ilk gelen şey genel bir araba tanımı olurken yani bir sınıf olurken, Marka, renk, yakıt tipi, beygir gücü gibi özellikleri belirttiğimiz zaman belirli bir arabadan yani bir nesneden bahsedildiğini anlayabiliriz. Programlama dilinde kullandığımız kodlar, fonksiyonlar, sayılar, harfler ve diğer her şey aslında birer nesnedir."
   ]
  },
  {
   "cell_type": "code",
   "execution_count": 1,
   "id": "a10f27ea",
   "metadata": {},
   "outputs": [
    {
     "data": {
      "text/plain": [
       "list"
      ]
     },
     "execution_count": 1,
     "metadata": {},
     "output_type": "execute_result"
    }
   ],
   "source": [
    "#Bir liste nesnesi oluşturalım\n",
    "\n",
    "liste1 = [1, 2, 3, 4, 5]\n",
    "\n",
    "type(liste1)"
   ]
  },
  {
   "cell_type": "markdown",
   "id": "0ba23014",
   "metadata": {},
   "source": [
    "- Burada oluşturulan nesne **list** sınıfının bir kaydıdır, \"liste1\" isminde kaydedilmiştir.\n",
    "\n",
    "- Aynı sınıfa kayıtlı nesneler aynı özelliklere ve metotlara sahiptir.\n",
    "\n",
    "- Örneğin **liste üzerine bir eleman eklemek** için <code>append()</code> metodunu list sınıfı üzerinden çağırabiliriz. Bu metot pythonda yer alan \"list\" sınıfına kayıtlı pek fonksiyondan biridir."
   ]
  },
  {
   "cell_type": "code",
   "execution_count": 2,
   "id": "cec73ad0",
   "metadata": {},
   "outputs": [
    {
     "name": "stdout",
     "output_type": "stream",
     "text": [
      "[1, 2, 3, 4, 5, 6]\n"
     ]
    }
   ],
   "source": [
    "liste1.append(6)\n",
    "\n",
    "print(liste1)"
   ]
  },
  {
   "cell_type": "code",
   "execution_count": 3,
   "id": "23bb5e8b",
   "metadata": {},
   "outputs": [
    {
     "data": {
      "text/plain": [
       "list"
      ]
     },
     "execution_count": 3,
     "metadata": {},
     "output_type": "execute_result"
    }
   ],
   "source": [
    "liste2 = [1, 2, 3, 4, 5]\n",
    "\n",
    "type(liste2)"
   ]
  },
  {
   "cell_type": "code",
   "execution_count": 4,
   "id": "6b6d4bc1",
   "metadata": {},
   "outputs": [
    {
     "name": "stdout",
     "output_type": "stream",
     "text": [
      "[1, 2, 3, 4, 5, 6]\n"
     ]
    }
   ],
   "source": [
    "liste2.append(6)\n",
    "\n",
    "print(liste2)"
   ]
  },
  {
   "cell_type": "code",
   "execution_count": 5,
   "id": "508a1f23",
   "metadata": {},
   "outputs": [
    {
     "name": "stdout",
     "output_type": "stream",
     "text": [
      "<class 'dict'>\n",
      "<class 'tuple'>\n"
     ]
    }
   ],
   "source": [
    "sözlük1 = dict()\n",
    "\n",
    "demet1 = tuple()\n",
    "\n",
    "print(type(sözlük1)) #tuple objesi\n",
    "print(type(demet1)) #demet objesi"
   ]
  },
  {
   "cell_type": "markdown",
   "id": "b7dae3da",
   "metadata": {},
   "source": [
    "## 2. Class (Sınıf) Nedir?\n",
    "\n",
    "\n",
    "Gerçek hayattaki bir nesneyi yazılım dünyasında temsil edecek olan yapıya **class** denir. Nesnelerin **özelliklerini (attributes)** ve **metotlarını (functions)** barındırır. \n",
    "\n",
    "- Python programlama dili ile birlikte gelen **list**, **dict**, **tuple** gibi yapıların birer sınıftır.\n",
    "\n",
    "- Sınıf oluşturmak için <code>class</code> ifadesi kullanılır.\n",
    "\n",
    "Örneğin bir araba sınıfı oluşturalım, bu arabanın **renk**, **marka**, **model**, **vites tipi**, **yakıt tipi** özelliklerini ve **motorun çalışması, sileceklerin çalışması, farların yanması** gibi fonksiyonları (metotları) bu sınıf dahilinde belirtelim."
   ]
  },
  {
   "cell_type": "code",
   "execution_count": 6,
   "id": "bc517473",
   "metadata": {},
   "outputs": [],
   "source": [
    "#Önce boş bir araba sınıfı oluşturalım\n",
    "class Araba:\n",
    "    pass"
   ]
  },
  {
   "cell_type": "code",
   "execution_count": 7,
   "id": "c8b70915",
   "metadata": {},
   "outputs": [
    {
     "data": {
      "text/plain": [
       "__main__.Araba"
      ]
     },
     "execution_count": 7,
     "metadata": {},
     "output_type": "execute_result"
    }
   ],
   "source": [
    "araba1 = Araba()\n",
    "\n",
    "type(araba1)"
   ]
  },
  {
   "cell_type": "markdown",
   "id": "95962021",
   "metadata": {},
   "source": [
    "## 3. Attributes (Özellik) Nedir ?\n",
    "Sınıf içinde tanımlanan, sınıfın her hangi bir özelliğini taşıyacak olan değişkenlere verdiğimiz isimdir. Örneğin Arabanın renk bilgisi gibi.\n",
    "\n",
    "- <code>\\_\\_init\\_\\_</code> varsayılan fonksiyonu ile sınıfın **temel özelliklerini** tanımlayabiliriz. Init metodu, bir sınıfın **yapıcı metodudur** (Constructor).\n",
    "\n",
    "- <code>self</code> nesnelere ve nesnelerin özelliklerine ulaşmamızı sağlayan anahtar kelimedir (keyword).\n",
    "\n",
    "Oluşturulan araba sınıfına renk, marka ve yakıt tipi özelliklerini ekleyiniz."
   ]
  },
  {
   "cell_type": "code",
   "execution_count": 8,
   "id": "f451c158",
   "metadata": {},
   "outputs": [],
   "source": [
    "#Araba sınıfına Renk, marka ve model özelliklerini ekleyelim\n",
    "\n",
    "class Araba:\n",
    "    \n",
    "    def __init__(self, renk, marka, yakıt_tipi):\n",
    "        self.renk = renk\n",
    "        self.marka = marka\n",
    "        self.yakıt_tipi = yakıt_tipi"
   ]
  },
  {
   "cell_type": "code",
   "execution_count": 9,
   "id": "43ed667c",
   "metadata": {},
   "outputs": [
    {
     "name": "stdout",
     "output_type": "stream",
     "text": [
      "<__main__.Araba object at 0x7fd640314af0>\n"
     ]
    }
   ],
   "source": [
    "araba1 = Araba(renk = 'Kırmızı', marka = 'Audi', yakıt_tipi = 'Dizel')\n",
    "\n",
    "print(araba1)"
   ]
  },
  {
   "cell_type": "code",
   "execution_count": 10,
   "id": "ee5b9499",
   "metadata": {},
   "outputs": [
    {
     "name": "stdout",
     "output_type": "stream",
     "text": [
      "Aracın Rengi: Kırmızı\n",
      "Aracın Markası: Audi\n",
      "Aracın Yakıt Tipi: Dizel\n"
     ]
    }
   ],
   "source": [
    "print('Aracın Rengi: {}'.format(araba1.renk))\n",
    "print('Aracın Markası: {}'.format(araba1.marka))\n",
    "print('Aracın Yakıt Tipi: {}'.format(araba1.yakıt_tipi))"
   ]
  },
  {
   "cell_type": "markdown",
   "id": "d604b489",
   "metadata": {},
   "source": [
    "## 4. Functions (Metotlar) Nedir?\n",
    "\n",
    "Sınıflar içinde tanımlanan ve nesneler üzerinden çağırabilen, belirli bir amaca yönelik işlemleri gerçekleştirmek amacıyla tanımlanan yapılardır.\n",
    "\n",
    "- Kullanım amacı kodların tekrar kullanılmasıdır.\n",
    "- Parametre alabilirler.\n",
    "- <code>def</code> ile metot tanımlayabiliriz.\n",
    "\n",
    "Oluşturulan araba sınıfına arabanın özelliklerini yazdıran bir metot ekleyiniz."
   ]
  },
  {
   "cell_type": "code",
   "execution_count": 11,
   "id": "c81241bf",
   "metadata": {},
   "outputs": [
    {
     "data": {
      "text/plain": [
       "8"
      ]
     },
     "execution_count": 11,
     "metadata": {},
     "output_type": "execute_result"
    }
   ],
   "source": [
    "#Toplama isminde bir fonksiyon tanımlayalım\n",
    "def toplama(a,b):\n",
    "    return a + b\n",
    "\n",
    "toplama(3, 5)"
   ]
  },
  {
   "cell_type": "code",
   "execution_count": 12,
   "id": "be5ee303",
   "metadata": {},
   "outputs": [
    {
     "data": {
      "text/plain": [
       "3"
      ]
     },
     "execution_count": 12,
     "metadata": {},
     "output_type": "execute_result"
    }
   ],
   "source": [
    "#Çıkarma isminde bir fonksiyon tanımlayalım\n",
    "def çıkarma(a, b):\n",
    "    return a - b\n",
    "\n",
    "çıkarma(5, 2)"
   ]
  },
  {
   "cell_type": "code",
   "execution_count": 13,
   "id": "306316a4",
   "metadata": {},
   "outputs": [],
   "source": [
    "#Araba sınıfına arabanın özelliklerini yazdıran bir metot ekleyelim\n",
    "class Araba:\n",
    "    \n",
    "    def __init__(self, renk, marka, yakıt_tipi):\n",
    "        self.renk = renk\n",
    "        self.marka = marka\n",
    "        self.yakıt_tipi = yakıt_tipi\n",
    "        \n",
    "    def özellikleri_göster(self):\n",
    "        print('Arabanın Markası:', self.marka)\n",
    "        print('Arabanın Rengi:', self.renk)\n",
    "        print('Arabanın Yakıt Tipi:', self.yakıt_tipi)"
   ]
  },
  {
   "cell_type": "code",
   "execution_count": 14,
   "id": "3c35309e",
   "metadata": {},
   "outputs": [
    {
     "name": "stdout",
     "output_type": "stream",
     "text": [
      "Arabanın Markası: Audi\n",
      "Arabanın Rengi: Kırmızı\n",
      "Arabanın Yakıt Tipi: Dizel\n"
     ]
    }
   ],
   "source": [
    "araba1 = Araba(renk = 'Kırmızı', marka = 'Audi', yakıt_tipi = 'Dizel')\n",
    "\n",
    "araba1.özellikleri_göster()"
   ]
  },
  {
   "cell_type": "markdown",
   "id": "40ecf94d",
   "metadata": {},
   "source": [
    "## Exercise 1\n",
    "\n",
    "Bir çalışan sınıfı oluşturunuz."
   ]
  },
  {
   "cell_type": "code",
   "execution_count": 15,
   "id": "ff89edf1",
   "metadata": {},
   "outputs": [],
   "source": []
  },
  {
   "cell_type": "code",
   "execution_count": 16,
   "id": "658f4900",
   "metadata": {},
   "outputs": [
    {
     "data": {
      "text/plain": [
       "__main__.Çalışan"
      ]
     },
     "execution_count": 16,
     "metadata": {},
     "output_type": "execute_result"
    }
   ],
   "source": []
  },
  {
   "cell_type": "markdown",
   "id": "c34950fe",
   "metadata": {},
   "source": [
    "## Exercise 2\n",
    "Oluşturulan çalışan sınıfına isim, departman, maaş ve yetenekler özelliklerini ekleyiniz. Oluşturulan çalışan sınıfını bir nesne olarak kaydedip özelliklerini kontrol ediniz."
   ]
  },
  {
   "cell_type": "code",
   "execution_count": 17,
   "id": "3569c623",
   "metadata": {},
   "outputs": [],
   "source": []
  },
  {
   "cell_type": "code",
   "execution_count": 18,
   "id": "1582c500",
   "metadata": {},
   "outputs": [
    {
     "name": "stdout",
     "output_type": "stream",
     "text": [
      "Çalışanın İsmi: Sercan\n",
      "Çalışanın Departmanı: Data Science\n",
      "Çalışanın Maaş: 3000\n",
      "Çalışanın Yetenekler: ['Python', 'SQL']\n"
     ]
    }
   ],
   "source": []
  },
  {
   "cell_type": "markdown",
   "id": "6ce9c9a9",
   "metadata": {},
   "source": [
    "## Exercise 3\n",
    "\n",
    "Oluşturulan çalışan sınıfına özellikleri yazdıracak şekilde bir metot ekleyiniz."
   ]
  },
  {
   "cell_type": "code",
   "execution_count": 19,
   "id": "523a49fd",
   "metadata": {},
   "outputs": [],
   "source": []
  },
  {
   "cell_type": "code",
   "execution_count": 20,
   "id": "66f666c2",
   "metadata": {},
   "outputs": [
    {
     "name": "stdout",
     "output_type": "stream",
     "text": [
      "Çalışanın İsmi: Sercan\n",
      "Çalışanın Departmanı: Data Science\n",
      "Çalışanın Maaş: 3000\n",
      "Çalışanın Yetenekler: ['Python', 'SQL']\n"
     ]
    }
   ],
   "source": []
  },
  {
   "cell_type": "markdown",
   "id": "4388db42",
   "metadata": {},
   "source": [
    "## Exercise 4\n",
    "\n",
    "Oluşturulan çalışan sınıfına, maaşa zam yapabilen ve mevcut yeteneklere yeni bir yetenek ekleyebilen iki metot tanımlayınız."
   ]
  },
  {
   "cell_type": "code",
   "execution_count": 21,
   "id": "b40094bc",
   "metadata": {},
   "outputs": [],
   "source": []
  },
  {
   "cell_type": "code",
   "execution_count": 22,
   "id": "24a01028",
   "metadata": {},
   "outputs": [],
   "source": []
  },
  {
   "cell_type": "code",
   "execution_count": 23,
   "id": "74da9f8c",
   "metadata": {},
   "outputs": [
    {
     "name": "stdout",
     "output_type": "stream",
     "text": [
      "Yetenek ekleniyor...\n",
      "Yetenek eklendi!\n"
     ]
    }
   ],
   "source": []
  },
  {
   "cell_type": "code",
   "execution_count": 24,
   "id": "8bd81654",
   "metadata": {},
   "outputs": [
    {
     "name": "stdout",
     "output_type": "stream",
     "text": [
      "Çalışanın İsmi: Sercan\n",
      "Çalışanın Departmanı: Data Science\n",
      "Çalışanın Maaş: 3000\n",
      "Çalışanın Yetenekler: ['Python', 'SQL', 'Matlab']\n"
     ]
    }
   ],
   "source": []
  },
  {
   "cell_type": "code",
   "execution_count": 25,
   "id": "92d2f7ba",
   "metadata": {},
   "outputs": [
    {
     "name": "stdout",
     "output_type": "stream",
     "text": [
      "Zam yapılıyor...\n",
      "Zam yapıldı!\n"
     ]
    }
   ],
   "source": []
  },
  {
   "cell_type": "code",
   "execution_count": 26,
   "id": "21781bfd",
   "metadata": {},
   "outputs": [
    {
     "name": "stdout",
     "output_type": "stream",
     "text": [
      "Çalışanın İsmi: Sercan\n",
      "Çalışanın Departmanı: Data Science\n",
      "Çalışanın Maaş: 3500\n",
      "Çalışanın Yetenekler: ['Python', 'SQL', 'Matlab']\n"
     ]
    }
   ],
   "source": []
  }
 ],
 "metadata": {
  "kernelspec": {
   "display_name": "Python 3 (ipykernel)",
   "language": "python",
   "name": "python3"
  },
  "language_info": {
   "codemirror_mode": {
    "name": "ipython",
    "version": 3
   },
   "file_extension": ".py",
   "mimetype": "text/x-python",
   "name": "python",
   "nbconvert_exporter": "python",
   "pygments_lexer": "ipython3",
   "version": "3.9.12"
  }
 },
 "nbformat": 4,
 "nbformat_minor": 5
}
